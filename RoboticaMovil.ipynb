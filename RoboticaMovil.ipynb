{
 "cells": [
  {
   "cell_type": "markdown",
   "metadata": {
    "tags": []
   },
   "source": [
    "# Aprendizaje por refuerzo en robótica móvil\n",
    "\n",
    "## Inteligencia Artificial\n",
    "### Grado en Ingeniería Informática - Ingeniería del Software\n",
    "### Curso 2023/2024\n",
    "### Profesor: Ignacio Pérez Hurtado de Mendoza\n"
   ]
  },
  {
   "cell_type": "markdown",
   "metadata": {},
   "source": [
    "El paquete de _Python_ [pymdptoolbox](https://github.com/sawcordwell/pymdptoolbox) proporciona un marco de trabajo para procesos de decisión de Markov."
   ]
  },
  {
   "cell_type": "markdown",
   "metadata": {},
   "source": [
    "El paquete proporciona tres módulos:\n",
    "* El módulo _mdp_ es el que implementa los procesos de decisión de Markov y los algoritmos de iteración de valores y de políticas, entre otros.\n",
    "* El módulo _util_ proporciona algunas funciones para comprobar la correcta descripción del proceso de decisión de Markov, como por ejemplo que la función de transición de cada acción aplicada a cada estado es una distribución de probabilidad (las probabilidades de los nuevos estados están en el intervalo $[0, 1]$ y suman $1$).\n",
    "* El modulo _example_ proporciona algunos ejemplos.\n"
   ]
  },
  {
   "cell_type": "code",
   "execution_count": 1,
   "metadata": {
    "tags": []
   },
   "outputs": [],
   "source": [
    "import mdptoolbox.mdp as mdp"
   ]
  },
  {
   "cell_type": "markdown",
   "metadata": {},
   "source": [
    "Los algoritmos para calcular una política óptima utilizan operaciones matriciales, por lo que también necesitaremos hacer uso del paquete [Numpy](https://numpy.org/)."
   ]
  },
  {
   "cell_type": "code",
   "execution_count": 2,
   "metadata": {
    "tags": []
   },
   "outputs": [],
   "source": [
    "import numpy as np"
   ]
  },
  {
   "cell_type": "markdown",
   "metadata": {},
   "source": [
    "Se recomienda repasar el tema de clase sobre aprendizaje por refuerzo, tanto la parte teórica como práctica."
   ]
  },
  {
   "cell_type": "markdown",
   "metadata": {},
   "source": [
    "# Ejemplo de navegación en robótica móvil"
   ]
  },
  {
   "cell_type": "markdown",
   "metadata": {},
   "source": [
    "En este ejemplo vamos a reproducir el ejemplo de MDP planteado en el capítulo 14 del libro *Probabilistic Robotics*\n",
    "\n",
    "Tendremos una mapa definido por una matriz de ocupación y un goal, leeremos estos datos de un fichero en el que primeramente vendrán las coordenadas del goal y luego vendrá línea por línea la matriz de ocupación, en dónde 1 significa obstáculo y 0 significa libre."
   ]
  },
  {
   "cell_type": "code",
   "execution_count": 388,
   "metadata": {},
   "outputs": [],
   "source": [
    "# El siguiente código lee el goal y el mapa del fichero\n",
    "\n",
    "def lee_mapa(fichero):\n",
    "    with open(fichero,'r') as archivo:\n",
    "        lineas = archivo.readlines()\n",
    "    numeros = [float(numero) for numero in lineas[0].split()]\n",
    "    lineas.pop(0)\n",
    "    lineas.reverse()\n",
    "    matriz = []\n",
    "    for linea in lineas:\n",
    "        fila = [int(caracter) for caracter in linea.strip()]\n",
    "        matriz.append(fila)\n",
    "    return np.array(matriz),(numeros[0],numeros[1])\n"
   ]
  },
  {
   "cell_type": "code",
   "execution_count": 389,
   "metadata": {},
   "outputs": [
    {
     "name": "stdout",
     "output_type": "stream",
     "text": [
      "[[1 1 1 1 1 1 1 1 1 1 1 1 1 1 1 1 1 1 1 1]\n",
      " [1 0 0 0 0 0 0 0 0 0 0 0 0 0 0 0 0 0 0 1]\n",
      " [1 0 0 0 0 0 0 1 1 0 0 0 0 0 0 0 0 0 0 1]\n",
      " [1 0 1 1 0 0 0 1 1 1 0 0 0 0 0 0 0 0 0 1]\n",
      " [1 0 1 1 0 0 0 0 0 0 0 0 0 0 1 1 0 0 0 1]\n",
      " [1 0 0 0 0 0 0 0 0 0 0 0 0 0 1 1 0 0 0 1]\n",
      " [1 1 1 1 1 1 1 1 1 1 1 1 1 1 1 1 1 1 1 1]]\n",
      "(17.0, 2.0)\n"
     ]
    }
   ],
   "source": [
    "# Descomentar solo el mapa con el que se quiera trabajar\n",
    "\n",
    "#mapa,destino = lee_mapa(\"map.txt\")\n",
    "mapa,destino = lee_mapa(\"map2.txt\")\n",
    "#mapa,destino = lee_mapa(\"map3.txt\")\n",
    "print(mapa)\n",
    "print(destino)"
   ]
  },
  {
   "cell_type": "markdown",
   "metadata": {},
   "source": [
    "Para visualizar el mapa, utilizaremos matplotlib, la siguiente función realiza la visualización del mapa. El goal se señala como un punto rojo."
   ]
  },
  {
   "cell_type": "code",
   "execution_count": 390,
   "metadata": {},
   "outputs": [],
   "source": [
    "import matplotlib.pyplot as plt\n",
    "def visualiza_mapa():\n",
    "    plt.figure(figsize=(len(mapa[0]), len(mapa)))\n",
    "    plt.imshow(1-mapa, cmap='gray', interpolation='none')\n",
    "    plt.xlim(-0.5, len(mapa[0]) - 0.5)\n",
    "    plt.ylim(-0.5, len(mapa) - 0.5)\n",
    "    plt.gca().add_patch(plt.Circle(destino,radius = 0.5,edgecolor = 'red', facecolor = 'red'))\n",
    "   \n",
    "    "
   ]
  },
  {
   "cell_type": "code",
   "execution_count": 391,
   "metadata": {},
   "outputs": [
    {
     "data": {
      "image/png": "[encoded data removed]",
      "text/plain": [
       "<Figure size 2000x700 with 1 Axes>"
      ]
     },
     "metadata": {},
     "output_type": "display_data"
    }
   ],
   "source": [
    "visualiza_mapa()\n"
   ]
  },
  {
   "cell_type": "markdown",
   "metadata": {},
   "source": [
    "Los estados del problema serán las casillas del mapa (incluso las que tienen obstáculos), el siguiente código extrae los estados como una lista de tuplas (x,y)"
   ]
  },
  {
   "cell_type": "code",
   "execution_count": 392,
   "metadata": {},
   "outputs": [
    {
     "data": {
      "text/plain": [
       "[(0, 0),\n",
       " (0, 1),\n",
       " (0, 2),\n",
       " (0, 3),\n",
       " (0, 4),\n",
       " (0, 5),\n",
       " (0, 6),\n",
       " (1, 0),\n",
       " (1, 1),\n",
       " (1, 2),\n",
       " (1, 3),\n",
       " (1, 4),\n",
       " (1, 5),\n",
       " (1, 6),\n",
       " (2, 0),\n",
       " (2, 1),\n",
       " (2, 2),\n",
       " (2, 3),\n",
       " (2, 4),\n",
       " (2, 5),\n",
       " (2, 6),\n",
       " (3, 0),\n",
       " (3, 1),\n",
       " (3, 2),\n",
       " (3, 3),\n",
       " (3, 4),\n",
       " (3, 5),\n",
       " (3, 6),\n",
       " (4, 0),\n",
       " (4, 1),\n",
       " (4, 2),\n",
       " (4, 3),\n",
       " (4, 4),\n",
       " (4, 5),\n",
       " (4, 6),\n",
       " (5, 0),\n",
       " (5, 1),\n",
       " (5, 2),\n",
       " (5, 3),\n",
       " (5, 4),\n",
       " (5, 5),\n",
       " (5, 6),\n",
       " (6, 0),\n",
       " (6, 1),\n",
       " (6, 2),\n",
       " (6, 3),\n",
       " (6, 4),\n",
       " (6, 5),\n",
       " (6, 6),\n",
       " (7, 0),\n",
       " (7, 1),\n",
       " (7, 2),\n",
       " (7, 3),\n",
       " (7, 4),\n",
       " (7, 5),\n",
       " (7, 6),\n",
       " (8, 0),\n",
       " (8, 1),\n",
       " (8, 2),\n",
       " (8, 3),\n",
       " (8, 4),\n",
       " (8, 5),\n",
       " (8, 6),\n",
       " (9, 0),\n",
       " (9, 1),\n",
       " (9, 2),\n",
       " (9, 3),\n",
       " (9, 4),\n",
       " (9, 5),\n",
       " (9, 6),\n",
       " (10, 0),\n",
       " (10, 1),\n",
       " (10, 2),\n",
       " (10, 3),\n",
       " (10, 4),\n",
       " (10, 5),\n",
       " (10, 6),\n",
       " (11, 0),\n",
       " (11, 1),\n",
       " (11, 2),\n",
       " (11, 3),\n",
       " (11, 4),\n",
       " (11, 5),\n",
       " (11, 6),\n",
       " (12, 0),\n",
       " (12, 1),\n",
       " (12, 2),\n",
       " (12, 3),\n",
       " (12, 4),\n",
       " (12, 5),\n",
       " (12, 6),\n",
       " (13, 0),\n",
       " (13, 1),\n",
       " (13, 2),\n",
       " (13, 3),\n",
       " (13, 4),\n",
       " (13, 5),\n",
       " (13, 6),\n",
       " (14, 0),\n",
       " (14, 1),\n",
       " (14, 2),\n",
       " (14, 3),\n",
       " (14, 4),\n",
       " (14, 5),\n",
       " (14, 6),\n",
       " (15, 0),\n",
       " (15, 1),\n",
       " (15, 2),\n",
       " (15, 3),\n",
       " (15, 4),\n",
       " (15, 5),\n",
       " (15, 6),\n",
       " (16, 0),\n",
       " (16, 1),\n",
       " (16, 2),\n",
       " (16, 3),\n",
       " (16, 4),\n",
       " (16, 5),\n",
       " (16, 6),\n",
       " (17, 0),\n",
       " (17, 1),\n",
       " (17, 2),\n",
       " (17, 3),\n",
       " (17, 4),\n",
       " (17, 5),\n",
       " (17, 6),\n",
       " (18, 0),\n",
       " (18, 1),\n",
       " (18, 2),\n",
       " (18, 3),\n",
       " (18, 4),\n",
       " (18, 5),\n",
       " (18, 6),\n",
       " (19, 0),\n",
       " (19, 1),\n",
       " (19, 2),\n",
       " (19, 3),\n",
       " (19, 4),\n",
       " (19, 5),\n",
       " (19, 6)]"
      ]
     },
     "execution_count": 392,
     "metadata": {},
     "output_type": "execute_result"
    }
   ],
   "source": [
    "nav_estados = []\n",
    "for i in range(0,mapa.shape[1]):\n",
    "    for j in range(0,mapa.shape[0]):\n",
    "        nav_estados.append(tuple([i,j]))\n",
    "nav_estados"
   ]
  },
  {
   "cell_type": "markdown",
   "metadata": {},
   "source": [
    "Necesitaremos saber si hay colisión en una casilla (el mapa tiene 1 en la celda correspondiente), para ello se puede usar la siguiente función:"
   ]
  },
  {
   "cell_type": "code",
   "execution_count": 393,
   "metadata": {},
   "outputs": [],
   "source": [
    "def hay_colision(estado):\n",
    "    return mapa[estado[1],estado[0]]==1"
   ]
  },
  {
   "cell_type": "code",
   "execution_count": 394,
   "metadata": {},
   "outputs": [
    {
     "data": {
      "text/plain": [
       "False"
      ]
     },
     "execution_count": 394,
     "metadata": {},
     "output_type": "execute_result"
    }
   ],
   "source": [
    "hay_colision((4,3))"
   ]
  },
  {
   "cell_type": "markdown",
   "metadata": {},
   "source": [
    "Las acciones de navegación serán \"esperar\" (es decir, quedarse en el sitio) o bien moverse hacia una de las 8 casillas adyacentes."
   ]
  },
  {
   "cell_type": "code",
   "execution_count": 395,
   "metadata": {},
   "outputs": [],
   "source": [
    "nav_acciones = ['esperar','N','NE','E','SE','S','SO','O','NO']\n"
   ]
  },
  {
   "cell_type": "markdown",
   "metadata": {},
   "source": [
    "El siguiente código aplica una acción a un estado dado y devuelve el estado resultante (x,y), si se parte de un estado que representa un obstáculo, el movimiento es imposible"
   ]
  },
  {
   "cell_type": "code",
   "execution_count": 396,
   "metadata": {},
   "outputs": [],
   "source": [
    "def aplica_accion(estado,accion):\n",
    "    if hay_colision(estado):\n",
    "        return estado\n",
    "    x = estado[0]\n",
    "    y = estado[1]\n",
    "    \n",
    "    if accion == 'N':\n",
    "        y += 1\n",
    "    elif accion == 'S':\n",
    "        y -= 1\n",
    "    elif accion == 'E':\n",
    "        x += 1\n",
    "    elif accion == 'O':\n",
    "        x -= 1\n",
    "    elif accion == 'NE':\n",
    "        y += 1\n",
    "        x += 1\n",
    "    elif accion == 'SE':\n",
    "        y -= 1\n",
    "        x += 1\n",
    "    elif accion == 'SO':\n",
    "        y -= 1\n",
    "        x -= 1\n",
    "    elif accion == 'NO':\n",
    "        y += 1\n",
    "        x -= 1\n",
    "    return x,y\n",
    "        "
   ]
  },
  {
   "cell_type": "code",
   "execution_count": 397,
   "metadata": {},
   "outputs": [
    {
     "data": {
      "text/plain": [
       "(3, 3)"
      ]
     },
     "execution_count": 397,
     "metadata": {},
     "output_type": "execute_result"
    }
   ],
   "source": [
    "aplica_accion((2,2),'NE')"
   ]
  },
  {
   "cell_type": "markdown",
   "metadata": {},
   "source": [
    "La recompensa en un estado es:\n",
    "\n",
    "* -K si el estado es un obstáculo\n",
    "* -distancia_euclidea_al_goal si el estado no es un obstáculo\n",
    "\n",
    "De esta forma, penalizamos los obstáculos y en cualquier otro caso, habrá recompensa menos negativa cuanto más cerca se esté del objetivo"
   ]
  },
  {
   "cell_type": "code",
   "execution_count": 398,
   "metadata": {},
   "outputs": [],
   "source": [
    "K = 1000\n",
    "def obtiene_recompensa(estado):\n",
    "    if hay_colision(estado):\n",
    "        valor = -K\n",
    "    else:\n",
    "        valor = - np.sqrt( (estado[0]-destino[0])**2 + (estado[1]-destino[1])**2)\n",
    "    return valor"
   ]
  },
  {
   "cell_type": "code",
   "execution_count": null,
   "metadata": {},
   "outputs": [],
   "source": []
  },
  {
   "cell_type": "code",
   "execution_count": 399,
   "metadata": {},
   "outputs": [
    {
     "name": "stdout",
     "output_type": "stream",
     "text": [
      "-1000\n",
      "-1000\n",
      "-13.038404810405298\n"
     ]
    }
   ],
   "source": [
    "print(obtiene_recompensa((8,2)))\n",
    "print(obtiene_recompensa((7,2)))\n",
    "print(obtiene_recompensa((4,3)))"
   ]
  },
  {
   "cell_type": "markdown",
   "metadata": {},
   "source": [
    "El siguiente código visualiza la recompensa de los estados libres de obstáculos con un gradiente de color desde blanco (menor recompensa) a azul (mayor recompensa)"
   ]
  },
  {
   "cell_type": "code",
   "execution_count": 400,
   "metadata": {},
   "outputs": [],
   "source": [
    "def visualiza_recompensas():\n",
    "    visualiza_mapa()\n",
    "    recompensas = [obtiene_recompensa(e) for e in nav_estados]\n",
    "    recompensas = [np.nan if elemento == -1000 else elemento for elemento in recompensas]\n",
    "    max_recompensa = np.nanmax(recompensas)\n",
    "    min_recompensa = np.nanmin(recompensas)\n",
    "    for e in nav_estados:\n",
    "        r = obtiene_recompensa(e)\n",
    "        if r == -1000:\n",
    "            continue\n",
    "        a = (r-min_recompensa)/(max_recompensa-min_recompensa)\n",
    "        rect = plt.Rectangle((e[0] - 0.5, e[1] - 0.5), 1, 1, alpha = a,linewidth=1, edgecolor='blue', facecolor='blue')\n",
    "        plt.gca().add_patch(rect)\n"
   ]
  },
  {
   "cell_type": "code",
   "execution_count": 401,
   "metadata": {},
   "outputs": [
    {
     "data": {
      "image/png": "[encoded data removed]",
      "text/plain": [
       "<Figure size 2000x700 with 1 Axes>"
      ]
     },
     "metadata": {},
     "output_type": "display_data"
    }
   ],
   "source": [
    "visualiza_recompensas()"
   ]
  },
  {
   "cell_type": "markdown",
   "metadata": {},
   "source": [
    "Se puede diseñar una política ambiciosa o *greedy* que asigna a cada estado la acción que más acercaría el robot al objetivo (sin colisionar).\n",
    "\n",
    "El siguiente código calcula dicha política y la devuelve como una lista de acciones, una por cada estado."
   ]
  },
  {
   "cell_type": "code",
   "execution_count": 402,
   "metadata": {},
   "outputs": [],
   "source": [
    "def crea_politica_greedy():\n",
    "    p = []\n",
    "    for e in nav_estados:\n",
    "        valores = []\n",
    "        for a in nav_acciones:\n",
    "            e1 = aplica_accion(e,a)\n",
    "            valores.append(obtiene_recompensa(e1))\n",
    "        accion = nav_acciones[np.argmax(valores)]\n",
    "        p.append(accion)\n",
    "    return p\n",
    "            \n",
    "            "
   ]
  },
  {
   "cell_type": "code",
   "execution_count": 403,
   "metadata": {},
   "outputs": [
    {
     "name": "stdout",
     "output_type": "stream",
     "text": [
      "((0, 0), 'esperar')\n",
      "((0, 1), 'esperar')\n",
      "((0, 2), 'esperar')\n",
      "((0, 3), 'esperar')\n",
      "((0, 4), 'esperar')\n",
      "((0, 5), 'esperar')\n",
      "((0, 6), 'esperar')\n",
      "((1, 0), 'esperar')\n",
      "((1, 1), 'NE')\n",
      "((1, 2), 'E')\n",
      "((1, 3), 'SE')\n",
      "((1, 4), 'NE')\n",
      "((1, 5), 'E')\n",
      "((1, 6), 'esperar')\n",
      "((2, 0), 'esperar')\n",
      "((2, 1), 'NE')\n",
      "((2, 2), 'E')\n",
      "((2, 3), 'esperar')\n",
      "((2, 4), 'esperar')\n",
      "((2, 5), 'E')\n",
      "((2, 6), 'esperar')\n",
      "((3, 0), 'esperar')\n",
      "((3, 1), 'NE')\n",
      "((3, 2), 'E')\n",
      "((3, 3), 'esperar')\n",
      "((3, 4), 'esperar')\n",
      "((3, 5), 'SE')\n",
      "((3, 6), 'esperar')\n",
      "((4, 0), 'esperar')\n",
      "((4, 1), 'NE')\n",
      "((4, 2), 'E')\n",
      "((4, 3), 'SE')\n",
      "((4, 4), 'SE')\n",
      "((4, 5), 'SE')\n",
      "((4, 6), 'esperar')\n",
      "((5, 0), 'esperar')\n",
      "((5, 1), 'NE')\n",
      "((5, 2), 'E')\n",
      "((5, 3), 'SE')\n",
      "((5, 4), 'SE')\n",
      "((5, 5), 'SE')\n",
      "((5, 6), 'esperar')\n",
      "((6, 0), 'esperar')\n",
      "((6, 1), 'E')\n",
      "((6, 2), 'SE')\n",
      "((6, 3), 'NE')\n",
      "((6, 4), 'E')\n",
      "((6, 5), 'SE')\n",
      "((6, 6), 'esperar')\n",
      "((7, 0), 'esperar')\n",
      "((7, 1), 'E')\n",
      "((7, 2), 'esperar')\n",
      "((7, 3), 'esperar')\n",
      "((7, 4), 'E')\n",
      "((7, 5), 'SE')\n",
      "((7, 6), 'esperar')\n",
      "((8, 0), 'esperar')\n",
      "((8, 1), 'NE')\n",
      "((8, 2), 'esperar')\n",
      "((8, 3), 'esperar')\n",
      "((8, 4), 'E')\n",
      "((8, 5), 'SE')\n",
      "((8, 6), 'esperar')\n",
      "((9, 0), 'esperar')\n",
      "((9, 1), 'NE')\n",
      "((9, 2), 'E')\n",
      "((9, 3), 'esperar')\n",
      "((9, 4), 'SE')\n",
      "((9, 5), 'SE')\n",
      "((9, 6), 'esperar')\n",
      "((10, 0), 'esperar')\n",
      "((10, 1), 'NE')\n",
      "((10, 2), 'E')\n",
      "((10, 3), 'SE')\n",
      "((10, 4), 'SE')\n",
      "((10, 5), 'SE')\n",
      "((10, 6), 'esperar')\n",
      "((11, 0), 'esperar')\n",
      "((11, 1), 'NE')\n",
      "((11, 2), 'E')\n",
      "((11, 3), 'SE')\n",
      "((11, 4), 'SE')\n",
      "((11, 5), 'SE')\n",
      "((11, 6), 'esperar')\n",
      "((12, 0), 'esperar')\n",
      "((12, 1), 'NE')\n",
      "((12, 2), 'E')\n",
      "((12, 3), 'SE')\n",
      "((12, 4), 'SE')\n",
      "((12, 5), 'SE')\n",
      "((12, 6), 'esperar')\n",
      "((13, 0), 'esperar')\n",
      "((13, 1), 'NE')\n",
      "((13, 2), 'E')\n",
      "((13, 3), 'SE')\n",
      "((13, 4), 'SE')\n",
      "((13, 5), 'S')\n",
      "((13, 6), 'esperar')\n",
      "((14, 0), 'esperar')\n",
      "((14, 1), 'NE')\n",
      "((14, 2), 'E')\n",
      "((14, 3), 'SE')\n",
      "((14, 4), 'esperar')\n",
      "((14, 5), 'esperar')\n",
      "((14, 6), 'esperar')\n",
      "((15, 0), 'esperar')\n",
      "((15, 1), 'NE')\n",
      "((15, 2), 'E')\n",
      "((15, 3), 'SE')\n",
      "((15, 4), 'esperar')\n",
      "((15, 5), 'esperar')\n",
      "((15, 6), 'esperar')\n",
      "((16, 0), 'esperar')\n",
      "((16, 1), 'NE')\n",
      "((16, 2), 'E')\n",
      "((16, 3), 'SE')\n",
      "((16, 4), 'SE')\n",
      "((16, 5), 'SE')\n",
      "((16, 6), 'esperar')\n",
      "((17, 0), 'esperar')\n",
      "((17, 1), 'N')\n",
      "((17, 2), 'esperar')\n",
      "((17, 3), 'S')\n",
      "((17, 4), 'S')\n",
      "((17, 5), 'S')\n",
      "((17, 6), 'esperar')\n",
      "((18, 0), 'esperar')\n",
      "((18, 1), 'NO')\n",
      "((18, 2), 'O')\n",
      "((18, 3), 'SO')\n",
      "((18, 4), 'SO')\n",
      "((18, 5), 'SO')\n",
      "((18, 6), 'esperar')\n",
      "((19, 0), 'esperar')\n",
      "((19, 1), 'esperar')\n",
      "((19, 2), 'esperar')\n",
      "((19, 3), 'esperar')\n",
      "((19, 4), 'esperar')\n",
      "((19, 5), 'esperar')\n",
      "((19, 6), 'esperar')\n"
     ]
    }
   ],
   "source": [
    "politica_greedy = crea_politica_greedy()\n",
    "for p in zip (nav_estados,politica_greedy):\n",
    "    print(p)"
   ]
  },
  {
   "cell_type": "markdown",
   "metadata": {},
   "source": [
    "La siguiente función realiza la visualización de una política"
   ]
  },
  {
   "cell_type": "code",
   "execution_count": 404,
   "metadata": {},
   "outputs": [],
   "source": [
    "def visualiza_politica(politica):\n",
    "    visualiza_mapa()\n",
    "    for p in zip(nav_estados,politica):\n",
    "        accion = p[1]\n",
    "        if accion=='esperar':\n",
    "            continue\n",
    "        estado = p[0]\n",
    "        e1 = aplica_accion(estado,accion)\n",
    "        x0 = estado[0]\n",
    "        y0 = estado[1]\n",
    "        x1 = e1[0]\n",
    "        y1 = e1[1]\n",
    "        \n",
    "        plt.gca().arrow(x0, y0, (x1 - x0)*0.6, (y1 - y0)*0.6,\n",
    "         head_width=0.3, head_length=0.3, fc='black', ec='black')\n",
    "\n",
    "    "
   ]
  },
  {
   "cell_type": "code",
   "execution_count": 405,
   "metadata": {},
   "outputs": [
    {
     "data": {
      "image/png": "[encoded data removed]",
      "text/plain": [
       "<Figure size 2000x700 with 1 Axes>"
      ]
     },
     "metadata": {},
     "output_type": "display_data"
    }
   ],
   "source": [
    "visualiza_politica(politica_greedy)"
   ]
  },
  {
   "cell_type": "markdown",
   "metadata": {},
   "source": [
    "Obsérvese la presencia de óptimos locales"
   ]
  },
  {
   "cell_type": "markdown",
   "metadata": {},
   "source": [
    "El siguiente código genera la matriz de recompensas SxA, en dónde:\n",
    "\n",
    "* R(s,a) = -100 si *s* es un estado distinto del goal y *a* es *esperar*\n",
    "* R(s,a) = R(s) en cualquier otro caso"
   ]
  },
  {
   "cell_type": "code",
   "execution_count": 406,
   "metadata": {},
   "outputs": [],
   "source": [
    "def crea_recompensas_sistema():\n",
    "    matriz = []\n",
    "    for e in nav_estados:\n",
    "        r = obtiene_recompensa(e)\n",
    "        fila = [r]*len(nav_acciones)\n",
    "        if e != destino:\n",
    "            fila[0]=-100\n",
    "        matriz.append(fila)\n",
    "    return np.array(matriz)"
   ]
  },
  {
   "cell_type": "code",
   "execution_count": 407,
   "metadata": {},
   "outputs": [],
   "source": [
    "nav_recompensas_sistema = crea_recompensas_sistema()"
   ]
  },
  {
   "cell_type": "code",
   "execution_count": 408,
   "metadata": {},
   "outputs": [
    {
     "name": "stdout",
     "output_type": "stream",
     "text": [
      "['esperar', 'N', 'NE', 'E', 'SE', 'S', 'SO', 'O', 'NO']\n"
     ]
    }
   ],
   "source": [
    "#Comento muchas lineas de esta celda porque debido a que el map2 es de menor dimensión produce errores.\n",
    "\n",
    "#print(nav_estados[160])\n",
    "print(nav_acciones)\n",
    "#print(nav_recompensas_sistema[160,0])\n",
    "#print(nav_recompensas_sistema[160,1])\n",
    "#print(nav_recompensas_sistema[160,2])\n",
    "#print(nav_recompensas_sistema[160,3])\n"
   ]
  },
  {
   "cell_type": "code",
   "execution_count": 409,
   "metadata": {},
   "outputs": [
    {
     "data": {
      "text/plain": [
       "(140, 9)"
      ]
     },
     "execution_count": 409,
     "metadata": {},
     "output_type": "execute_result"
    }
   ],
   "source": [
    "nav_recompensas_sistema.shape"
   ]
  },
  {
   "cell_type": "markdown",
   "metadata": {},
   "source": [
    "El siguiente código obtiene el índice único de un estado a partir de sus coordenadas. El índice es la posición del estado en la lista de estados."
   ]
  },
  {
   "cell_type": "code",
   "execution_count": 410,
   "metadata": {},
   "outputs": [],
   "source": [
    "def obtiene_indice_estado(estado):\n",
    "    return int(estado[0]*mapa.shape[0]+estado[1])"
   ]
  },
  {
   "cell_type": "code",
   "execution_count": 411,
   "metadata": {},
   "outputs": [
    {
     "name": "stdout",
     "output_type": "stream",
     "text": [
      "(17.0, 2.0)\n"
     ]
    }
   ],
   "source": [
    "#Lo de arriba no es unico para el map2\n",
    "print(destino)"
   ]
  },
  {
   "cell_type": "code",
   "execution_count": 412,
   "metadata": {},
   "outputs": [
    {
     "name": "stdout",
     "output_type": "stream",
     "text": [
      "77\n"
     ]
    }
   ],
   "source": [
    "print(obtiene_indice_estado((10,7)))"
   ]
  },
  {
   "cell_type": "markdown",
   "metadata": {},
   "source": [
    "Vamos a suponer que el movimiento del robot no es perfecto y puede desviarse a izquierda o derecha de su trayectoria, es decir:\n",
    "\n",
    "* Si va en dirección N, podría terminar en dirección NE o NO\n",
    "* Si va en dirección S, podría terminar en dirección SE o SO\n",
    "* Si va en dirección E, podría terminar en dirección NE o SE\n",
    "* Si va en dirección O, podría terminar en direcicón NO o SO\n",
    "* Si va en dirección NE, podría terminar en dirección N o E\n",
    "* Si va en dirección NO, podría terminar en dirección N u O\n",
    "* Si va en dirección SE, podría terminar en dirección S o E\n",
    "* Si va en dirección SO, podría terminar en dirección S u O\n",
    "\n",
    "El siguiente código devuelve la lista de posibles acciones de error dada una acción. Téngase en cuenta, que la acción esperar no tiene error."
   ]
  },
  {
   "cell_type": "code",
   "execution_count": 413,
   "metadata": {},
   "outputs": [],
   "source": [
    "def obtiene_posibles_errores(accion):\n",
    "    if accion=='N':\n",
    "        errores = ['NE','NO']\n",
    "    elif accion=='S':\n",
    "        errores = ['SE','SO']\n",
    "    elif accion=='E':\n",
    "        errores = ['NE','SE']\n",
    "    elif accion=='O':\n",
    "        errores = ['NO', 'SO']\n",
    "    elif accion=='NE':\n",
    "        errores = ['N','E']\n",
    "    elif accion=='NO':\n",
    "        errores = ['N','O']\n",
    "    elif accion=='SE':\n",
    "        errores = ['S','E']\n",
    "    elif accion == 'SO':\n",
    "        errores = ['S','O']\n",
    "    else:\n",
    "        errores = []\n",
    "    return errores"
   ]
  },
  {
   "cell_type": "code",
   "execution_count": 414,
   "metadata": {},
   "outputs": [
    {
     "data": {
      "text/plain": [
       "['S', 'E']"
      ]
     },
     "execution_count": 414,
     "metadata": {},
     "output_type": "execute_result"
    }
   ],
   "source": [
    "obtiene_posibles_errores('SE')"
   ]
  },
  {
   "cell_type": "code",
   "execution_count": 415,
   "metadata": {},
   "outputs": [
    {
     "data": {
      "text/plain": [
       "[]"
      ]
     },
     "execution_count": 415,
     "metadata": {},
     "output_type": "execute_result"
    }
   ],
   "source": [
    "obtiene_posibles_errores('esperar')"
   ]
  },
  {
   "cell_type": "markdown",
   "metadata": {},
   "source": [
    "El siguiente código crea la matriz de transición SxS para una acción determinada y una probabilidad de error *prob_error*\n",
    "\n",
    "* Con probabilidad *1 - prob_error*, el estado resultante será el correspondiente a aplicar la acción correctamente.\n",
    "* Con probabilidad *prob_error/N*, el estado resultante será el correspondiente a aplicar una de las posibles acciones de error devueltas por la función anterior, en donde N es el número de acciones de error "
   ]
  },
  {
   "cell_type": "code",
   "execution_count": 416,
   "metadata": {},
   "outputs": [],
   "source": [
    "def crea_transiciones_movimiento(accion, prob_error):\n",
    "    matriz = []\n",
    "    for e0 in nav_estados:\n",
    "        fila = [0]*len(nav_estados)\n",
    "        if hay_colision(e0):\n",
    "            fila[obtiene_indice_estado(e0)]=1\n",
    "        else:\n",
    "            goal = aplica_accion(e0,accion)\n",
    "            errores = obtiene_posibles_errores(accion)\n",
    "            if len(errores)==0:\n",
    "                fila[obtiene_indice_estado(goal)] = 1\n",
    "            else:\n",
    "                fila[obtiene_indice_estado(goal)] = 1 - prob_error\n",
    "                for error in errores:\n",
    "                    goal_error = aplica_accion(e0,error)\n",
    "                    fila[obtiene_indice_estado(goal_error)] = prob_error/len(errores)\n",
    "        matriz.append(fila)\n",
    "    return np.array(matriz)\n",
    "       \n",
    "            "
   ]
  },
  {
   "cell_type": "code",
   "execution_count": null,
   "metadata": {},
   "outputs": [],
   "source": []
  },
  {
   "cell_type": "code",
   "execution_count": 417,
   "metadata": {},
   "outputs": [
    {
     "name": "stdout",
     "output_type": "stream",
     "text": [
      "[[1. 0. 0. ... 0. 0. 0.]\n",
      " [0. 1. 0. ... 0. 0. 0.]\n",
      " [0. 0. 1. ... 0. 0. 0.]\n",
      " ...\n",
      " [0. 0. 0. ... 1. 0. 0.]\n",
      " [0. 0. 0. ... 0. 1. 0.]\n",
      " [0. 0. 0. ... 0. 0. 1.]]\n",
      "1.0\n",
      "0.0\n",
      "0.0\n",
      "0.0\n"
     ]
    }
   ],
   "source": [
    "test = crea_transiciones_movimiento('N',0.2)\n",
    "print(test)\n",
    "print(test[0,0])\n",
    "print(test[obtiene_indice_estado((10,7)),obtiene_indice_estado((10,8))])\n",
    "print(test[obtiene_indice_estado((10,7)),obtiene_indice_estado((9,8))])\n",
    "print(test[obtiene_indice_estado((10,7)),obtiene_indice_estado((11,8))])"
   ]
  },
  {
   "cell_type": "markdown",
   "metadata": {},
   "source": [
    "El siguiente código genera todas las transiciones del sistema como un array AxSxS"
   ]
  },
  {
   "cell_type": "code",
   "execution_count": 418,
   "metadata": {},
   "outputs": [],
   "source": [
    "def crea_transiciones_sistema(prob_error):\n",
    "    return np.array([crea_transiciones_movimiento('esperar',prob_error), \n",
    "                     crea_transiciones_movimiento('N',prob_error),\n",
    "                     crea_transiciones_movimiento('NE',prob_error),\n",
    "                     crea_transiciones_movimiento('E',prob_error),\n",
    "                     crea_transiciones_movimiento('SE',prob_error),\n",
    "                     crea_transiciones_movimiento('S',prob_error),\n",
    "                     crea_transiciones_movimiento('SO',prob_error),\n",
    "                     crea_transiciones_movimiento('O',prob_error),\n",
    "                     crea_transiciones_movimiento('NO',prob_error)])"
   ]
  },
  {
   "cell_type": "code",
   "execution_count": 419,
   "metadata": {},
   "outputs": [],
   "source": [
    "nav_transiciones_sistema = crea_transiciones_sistema(0.2)"
   ]
  },
  {
   "cell_type": "code",
   "execution_count": 420,
   "metadata": {},
   "outputs": [
    {
     "data": {
      "text/plain": [
       "(9, 140, 140)"
      ]
     },
     "execution_count": 420,
     "metadata": {},
     "output_type": "execute_result"
    }
   ],
   "source": [
    "nav_transiciones_sistema.shape"
   ]
  },
  {
   "cell_type": "code",
   "execution_count": 421,
   "metadata": {},
   "outputs": [
    {
     "data": {
      "text/plain": [
       "(7, 20)"
      ]
     },
     "execution_count": 421,
     "metadata": {},
     "output_type": "execute_result"
    }
   ],
   "source": [
    "mapa.shape"
   ]
  },
  {
   "cell_type": "markdown",
   "metadata": {},
   "source": [
    "El siguiente diccionario devuelve el índice de una acción dado el nombre de la acción, será necesario porque los métodos de mdptoolbox utilizan índices para estados y acciones"
   ]
  },
  {
   "cell_type": "code",
   "execution_count": 422,
   "metadata": {},
   "outputs": [],
   "source": [
    "indices_nav_acciones = {'esperar': 0, 'N': 1, 'NE': 2, 'E': 3, 'SE': 4, 'S': 5, 'SO': 6, 'O': 7, 'NO': 8}"
   ]
  },
  {
   "cell_type": "markdown",
   "metadata": {},
   "source": [
    "El siguiente código traduce la política greedy a un array de índices de acciones, será la política por defecto que se utilizará en el agoritmo de Policy Iteration"
   ]
  },
  {
   "cell_type": "code",
   "execution_count": 423,
   "metadata": {},
   "outputs": [
    {
     "data": {
      "text/plain": [
       "array([0, 0, 0, 0, 0, 0, 0, 0, 2, 3, 4, 2, 3, 0, 0, 2, 3, 0, 0, 3, 0, 0,\n",
       "       2, 3, 0, 0, 4, 0, 0, 2, 3, 4, 4, 4, 0, 0, 2, 3, 4, 4, 4, 0, 0, 3,\n",
       "       4, 2, 3, 4, 0, 0, 3, 0, 0, 3, 4, 0, 0, 2, 0, 0, 3, 4, 0, 0, 2, 3,\n",
       "       0, 4, 4, 0, 0, 2, 3, 4, 4, 4, 0, 0, 2, 3, 4, 4, 4, 0, 0, 2, 3, 4,\n",
       "       4, 4, 0, 0, 2, 3, 4, 4, 5, 0, 0, 2, 3, 4, 0, 0, 0, 0, 2, 3, 4, 0,\n",
       "       0, 0, 0, 2, 3, 4, 4, 4, 0, 0, 1, 0, 5, 5, 5, 0, 0, 8, 7, 6, 6, 6,\n",
       "       0, 0, 0, 0, 0, 0, 0, 0])"
      ]
     },
     "execution_count": 423,
     "metadata": {},
     "output_type": "execute_result"
    }
   ],
   "source": [
    "politica_por_defecto = np.array([indices_nav_acciones[x] for x in politica_greedy])\n",
    "politica_por_defecto"
   ]
  },
  {
   "cell_type": "markdown",
   "metadata": {},
   "source": [
    "Ya estamos en condiones de plantear el problema como un MDP en mdptoolbox, utilizaremos el algoritmo Policy Iteration"
   ]
  },
  {
   "cell_type": "code",
   "execution_count": 424,
   "metadata": {},
   "outputs": [],
   "source": [
    "import mdptoolbox.mdp as mdp\n",
    "ejemplo_nav_robot = mdp.PolicyIteration(\n",
    "    transitions=nav_transiciones_sistema,\n",
    "    reward=nav_recompensas_sistema,\n",
    "    discount=0.9,\n",
    "    policy0=politica_por_defecto\n",
    ")"
   ]
  },
  {
   "cell_type": "markdown",
   "metadata": {},
   "source": [
    "Resolvemos el MDP"
   ]
  },
  {
   "cell_type": "code",
   "execution_count": 425,
   "metadata": {},
   "outputs": [
    {
     "name": "stdout",
     "output_type": "stream",
     "text": [
      "  Iteration\t\tNumber of different actions\n",
      "    1\t\t  27\n",
      "    2\t\t  16\n",
      "    3\t\t  3\n",
      "    4\t\t  0\n",
      "Iterating stopped, unchanging policy found.\n"
     ]
    }
   ],
   "source": [
    "ejemplo_nav_robot.setVerbose()\n",
    "ejemplo_nav_robot.run()\n"
   ]
  },
  {
   "cell_type": "markdown",
   "metadata": {},
   "source": [
    "A continuación se muestra la acción para cada estado"
   ]
  },
  {
   "cell_type": "code",
   "execution_count": 426,
   "metadata": {},
   "outputs": [
    {
     "name": "stdout",
     "output_type": "stream",
     "text": [
      "En el estado (0, 0) ejecuta la acción esperar\n",
      "En el estado (0, 1) ejecuta la acción esperar\n",
      "En el estado (0, 2) ejecuta la acción esperar\n",
      "En el estado (0, 3) ejecuta la acción esperar\n",
      "En el estado (0, 4) ejecuta la acción esperar\n",
      "En el estado (0, 5) ejecuta la acción esperar\n",
      "En el estado (0, 6) ejecuta la acción esperar\n",
      "En el estado (1, 0) ejecuta la acción esperar\n",
      "En el estado (1, 1) ejecuta la acción NE\n",
      "En el estado (1, 2) ejecuta la acción SE\n",
      "En el estado (1, 3) ejecuta la acción SE\n",
      "En el estado (1, 4) ejecuta la acción S\n",
      "En el estado (1, 5) ejecuta la acción E\n",
      "En el estado (1, 6) ejecuta la acción esperar\n",
      "En el estado (2, 0) ejecuta la acción esperar\n",
      "En el estado (2, 1) ejecuta la acción NE\n",
      "En el estado (2, 2) ejecuta la acción SE\n",
      "En el estado (2, 3) ejecuta la acción esperar\n",
      "En el estado (2, 4) ejecuta la acción esperar\n",
      "En el estado (2, 5) ejecuta la acción E\n",
      "En el estado (2, 6) ejecuta la acción esperar\n",
      "En el estado (3, 0) ejecuta la acción esperar\n",
      "En el estado (3, 1) ejecuta la acción NE\n",
      "En el estado (3, 2) ejecuta la acción E\n",
      "En el estado (3, 3) ejecuta la acción esperar\n",
      "En el estado (3, 4) ejecuta la acción esperar\n",
      "En el estado (3, 5) ejecuta la acción SE\n",
      "En el estado (3, 6) ejecuta la acción esperar\n",
      "En el estado (4, 0) ejecuta la acción esperar\n",
      "En el estado (4, 1) ejecuta la acción NE\n",
      "En el estado (4, 2) ejecuta la acción NE\n",
      "En el estado (4, 3) ejecuta la acción NE\n",
      "En el estado (4, 4) ejecuta la acción E\n",
      "En el estado (4, 5) ejecuta la acción SE\n",
      "En el estado (4, 6) ejecuta la acción esperar\n",
      "En el estado (5, 0) ejecuta la acción esperar\n",
      "En el estado (5, 1) ejecuta la acción N\n",
      "En el estado (5, 2) ejecuta la acción NE\n",
      "En el estado (5, 3) ejecuta la acción NE\n",
      "En el estado (5, 4) ejecuta la acción E\n",
      "En el estado (5, 5) ejecuta la acción SE\n",
      "En el estado (5, 6) ejecuta la acción esperar\n",
      "En el estado (6, 0) ejecuta la acción esperar\n",
      "En el estado (6, 1) ejecuta la acción NO\n",
      "En el estado (6, 2) ejecuta la acción NO\n",
      "En el estado (6, 3) ejecuta la acción N\n",
      "En el estado (6, 4) ejecuta la acción NE\n",
      "En el estado (6, 5) ejecuta la acción SE\n",
      "En el estado (6, 6) ejecuta la acción esperar\n",
      "En el estado (7, 0) ejecuta la acción esperar\n",
      "En el estado (7, 1) ejecuta la acción NO\n",
      "En el estado (7, 2) ejecuta la acción esperar\n",
      "En el estado (7, 3) ejecuta la acción esperar\n",
      "En el estado (7, 4) ejecuta la acción NE\n",
      "En el estado (7, 5) ejecuta la acción SE\n",
      "En el estado (7, 6) ejecuta la acción esperar\n",
      "En el estado (8, 0) ejecuta la acción esperar\n",
      "En el estado (8, 1) ejecuta la acción NE\n",
      "En el estado (8, 2) ejecuta la acción esperar\n",
      "En el estado (8, 3) ejecuta la acción esperar\n",
      "En el estado (8, 4) ejecuta la acción NE\n",
      "En el estado (8, 5) ejecuta la acción SE\n",
      "En el estado (8, 6) ejecuta la acción esperar\n",
      "En el estado (9, 0) ejecuta la acción esperar\n",
      "En el estado (9, 1) ejecuta la acción NE\n",
      "En el estado (9, 2) ejecuta la acción E\n",
      "En el estado (9, 3) ejecuta la acción esperar\n",
      "En el estado (9, 4) ejecuta la acción E\n",
      "En el estado (9, 5) ejecuta la acción SE\n",
      "En el estado (9, 6) ejecuta la acción esperar\n",
      "En el estado (10, 0) ejecuta la acción esperar\n",
      "En el estado (10, 1) ejecuta la acción NE\n",
      "En el estado (10, 2) ejecuta la acción E\n",
      "En el estado (10, 3) ejecuta la acción E\n",
      "En el estado (10, 4) ejecuta la acción SE\n",
      "En el estado (10, 5) ejecuta la acción SE\n",
      "En el estado (10, 6) ejecuta la acción esperar\n",
      "En el estado (11, 0) ejecuta la acción esperar\n",
      "En el estado (11, 1) ejecuta la acción NE\n",
      "En el estado (11, 2) ejecuta la acción E\n",
      "En el estado (11, 3) ejecuta la acción E\n",
      "En el estado (11, 4) ejecuta la acción SE\n",
      "En el estado (11, 5) ejecuta la acción SE\n",
      "En el estado (11, 6) ejecuta la acción esperar\n",
      "En el estado (12, 0) ejecuta la acción esperar\n",
      "En el estado (12, 1) ejecuta la acción NE\n",
      "En el estado (12, 2) ejecuta la acción E\n",
      "En el estado (12, 3) ejecuta la acción SE\n",
      "En el estado (12, 4) ejecuta la acción SE\n",
      "En el estado (12, 5) ejecuta la acción SE\n",
      "En el estado (12, 6) ejecuta la acción esperar\n",
      "En el estado (13, 0) ejecuta la acción esperar\n",
      "En el estado (13, 1) ejecuta la acción NE\n",
      "En el estado (13, 2) ejecuta la acción E\n",
      "En el estado (13, 3) ejecuta la acción SE\n",
      "En el estado (13, 4) ejecuta la acción S\n",
      "En el estado (13, 5) ejecuta la acción SO\n",
      "En el estado (13, 6) ejecuta la acción esperar\n",
      "En el estado (14, 0) ejecuta la acción esperar\n",
      "En el estado (14, 1) ejecuta la acción NE\n",
      "En el estado (14, 2) ejecuta la acción E\n",
      "En el estado (14, 3) ejecuta la acción SE\n",
      "En el estado (14, 4) ejecuta la acción esperar\n",
      "En el estado (14, 5) ejecuta la acción esperar\n",
      "En el estado (14, 6) ejecuta la acción esperar\n",
      "En el estado (15, 0) ejecuta la acción esperar\n",
      "En el estado (15, 1) ejecuta la acción NE\n",
      "En el estado (15, 2) ejecuta la acción E\n",
      "En el estado (15, 3) ejecuta la acción SE\n",
      "En el estado (15, 4) ejecuta la acción esperar\n",
      "En el estado (15, 5) ejecuta la acción esperar\n",
      "En el estado (15, 6) ejecuta la acción esperar\n",
      "En el estado (16, 0) ejecuta la acción esperar\n",
      "En el estado (16, 1) ejecuta la acción NE\n",
      "En el estado (16, 2) ejecuta la acción E\n",
      "En el estado (16, 3) ejecuta la acción SE\n",
      "En el estado (16, 4) ejecuta la acción SE\n",
      "En el estado (16, 5) ejecuta la acción SE\n",
      "En el estado (16, 6) ejecuta la acción esperar\n",
      "En el estado (17, 0) ejecuta la acción esperar\n",
      "En el estado (17, 1) ejecuta la acción N\n",
      "En el estado (17, 2) ejecuta la acción esperar\n",
      "En el estado (17, 3) ejecuta la acción S\n",
      "En el estado (17, 4) ejecuta la acción S\n",
      "En el estado (17, 5) ejecuta la acción S\n",
      "En el estado (17, 6) ejecuta la acción esperar\n",
      "En el estado (18, 0) ejecuta la acción esperar\n",
      "En el estado (18, 1) ejecuta la acción NO\n",
      "En el estado (18, 2) ejecuta la acción O\n",
      "En el estado (18, 3) ejecuta la acción SO\n",
      "En el estado (18, 4) ejecuta la acción SO\n",
      "En el estado (18, 5) ejecuta la acción SO\n",
      "En el estado (18, 6) ejecuta la acción esperar\n",
      "En el estado (19, 0) ejecuta la acción esperar\n",
      "En el estado (19, 1) ejecuta la acción esperar\n",
      "En el estado (19, 2) ejecuta la acción esperar\n",
      "En el estado (19, 3) ejecuta la acción esperar\n",
      "En el estado (19, 4) ejecuta la acción esperar\n",
      "En el estado (19, 5) ejecuta la acción esperar\n",
      "En el estado (19, 6) ejecuta la acción esperar\n"
     ]
    }
   ],
   "source": [
    "for estado, i in zip(nav_estados, ejemplo_nav_robot.policy):\n",
    "    print(f'En el estado {estado} ejecuta la acción {nav_acciones[i]}')"
   ]
  },
  {
   "cell_type": "markdown",
   "metadata": {},
   "source": [
    "Traducimos la política devuelta por el algoritmo a una lista de nombres de acciones, que es lo que requiere nuestro método de visualización"
   ]
  },
  {
   "cell_type": "code",
   "execution_count": 343,
   "metadata": {},
   "outputs": [],
   "source": [
    "nav_politica = [nav_acciones[i] for i in ejemplo_nav_robot.policy]"
   ]
  },
  {
   "cell_type": "markdown",
   "metadata": {},
   "source": [
    "Visualización de la política obtenida"
   ]
  },
  {
   "cell_type": "code",
   "execution_count": 344,
   "metadata": {},
   "outputs": [
    {
     "data": {
      "image/png": "[encoded data removed]",
      "text/plain": [
       "<Figure size 2000x700 with 1 Axes>"
      ]
     },
     "metadata": {},
     "output_type": "display_data"
    }
   ],
   "source": [
    "visualiza_politica(nav_politica)"
   ]
  },
  {
   "cell_type": "markdown",
   "metadata": {},
   "source": [
    "Como se puede observar, no sólo se corrigen los óptimos locales con respecto a la política greedy, sino que el robot evita circular en el interior de corredores, en dónde la posibilidad de colisionar con una pared es superior."
   ]
  },
  {
   "cell_type": "code",
   "execution_count": null,
   "metadata": {},
   "outputs": [],
   "source": []
  },
  {
   "cell_type": "code",
   "execution_count": 345,
   "metadata": {},
   "outputs": [],
   "source": [
    "# A continuación se encuentran implementados los algoritmos Montecarlo, SARSA y Q-Learning\n",
    "# Además hay algunas funciones auxiliares las cuales usé para la implementación propia de Montecarlo y SARSA.\n",
    "# También creé una función alternativa de recompensa."
   ]
  },
  {
   "cell_type": "code",
   "execution_count": null,
   "metadata": {},
   "outputs": [],
   "source": []
  },
  {
   "cell_type": "code",
   "execution_count": 346,
   "metadata": {},
   "outputs": [],
   "source": [
    "#Implementado por mi (función alternativa de recompensa):\n",
    "K = 1000\n",
    "def obtiene_recompensa_2(estado):\n",
    "    if hay_colision(estado):\n",
    "        valor = -K\n",
    "    elif estado != destino:\n",
    "        valor = -1\n",
    "    else:\n",
    "        valor = 0\n",
    "    return valor"
   ]
  },
  {
   "cell_type": "code",
   "execution_count": 347,
   "metadata": {},
   "outputs": [],
   "source": [
    "# La siguiente función la utilizo para calcular la secuencia inicial requerida tanto en montecarlo como en SARSA\n",
    "\n",
    "def aplica_accion_porcentaje_error(estado,accion,error):\n",
    "    if(error > 1 or error < 0):\n",
    "        raise Exception(\"El porcentaje de error debe estar entre 0 y 1.\")\n",
    "    random = np.random.rand()\n",
    "    errors = obtiene_posibles_errores(accion)\n",
    "    success = 1 - error\n",
    "    if len(errors) != 0:\n",
    "        if random < success:\n",
    "            return aplica_accion(estado,accion)\n",
    "        elif random < (success + error/2):\n",
    "            return aplica_accion(estado,errors[0])\n",
    "        else:\n",
    "            return aplica_accion(estado,errors[1])\n",
    "            \n",
    "    else:\n",
    "        return aplica_accion(estado,accion)\n",
    "        \n",
    "        "
   ]
  },
  {
   "cell_type": "code",
   "execution_count": 348,
   "metadata": {},
   "outputs": [],
   "source": [
    "# La siguiente función calcula y devuelve la secuencia inicial necesaria para el algoritmo de Montecarlo y SARSA\n",
    "# Tiene un parámetro boolean montecarlo, que si está en True toma una primera accion aleatoria en la secuencia y si está en false\n",
    "# toma como primera acción la que indique la política para el primer estado.\n",
    "\n",
    "def crear_secuencia_inicial(politica , montecarlo):\n",
    "    max_iter= 500\n",
    "    while True:\n",
    "        e0 =  nav_estados[np.random.randint(0, len(nav_estados))]\n",
    "        if montecarlo == True:\n",
    "            a0 = nav_acciones[np.random.randint(0, len(nav_acciones))]\n",
    "        else:\n",
    "            a0 = politica[obtiene_indice_estado(e0)]\n",
    "        e1= aplica_accion_porcentaje_error(e0,a0,0.2)\n",
    "        estados = []\n",
    "        acciones = []\n",
    "        iterations = 0\n",
    "        while(hay_colision(e0) or hay_colision(e1)):\n",
    "            e0 =  nav_estados[np.random.randint(0, len(nav_estados))]\n",
    "            a0 = nav_acciones[np.random.randint(0, len(nav_acciones))]\n",
    "            e1= aplica_accion(e0,a0)\n",
    "        estados.append(e0)\n",
    "        estados.append(e1)\n",
    "        acciones.append(a0)\n",
    "    \n",
    "        while(e1 != destino):\n",
    "            accion = politica[obtiene_indice_estado(e1)]\n",
    "            e1 = aplica_accion_porcentaje_error(e1,accion,0.2)\n",
    "            estados.append(e1)\n",
    "            acciones.append(accion)\n",
    "            iterations +=1\n",
    "            if(hay_colision(e1)):\n",
    "                break\n",
    "            if iterations >= max_iter:\n",
    "                break\n",
    "\n",
    "\n",
    "        if(e1 == destino):\n",
    "            break\n",
    "\n",
    "    return [estados,acciones]"
   ]
  },
  {
   "cell_type": "code",
   "execution_count": 349,
   "metadata": {},
   "outputs": [],
   "source": [
    "#Implementación montecarlo"
   ]
  },
  {
   "cell_type": "code",
   "execution_count": 350,
   "metadata": {},
   "outputs": [],
   "source": [
    "def montecarlo(politica_inicial, n_iteraciones, discount, primera_visita):\n",
    "    politica_res = politica_inicial.copy()\n",
    "    Racum = {}\n",
    "    q_values = {}\n",
    "    acum = {}\n",
    "\n",
    "    for e in nav_estados:\n",
    "        if not (hay_colision(e)):\n",
    "            for a in nav_acciones:\n",
    "                if e not in acum: \n",
    "                    acum[e] = []\n",
    "                acum[e].append((0,a))\n",
    "    \n",
    "    for k in range(n_iteraciones):\n",
    "        sec_inicial = crear_secuencia_inicial(politica_res , True)\n",
    "        control_seq = []\n",
    "        estados_secuencia = sec_inicial[0]\n",
    "        acciones_secuencia = sec_inicial[1]\n",
    "        for i in range(len(acciones_secuencia)):\n",
    "            if primera_visita== False or (primera_visita== True and ( (estados_secuencia[i], acciones_secuencia[i]) not in control_seq)):\n",
    "                control_seq.append((estados_secuencia[i], acciones_secuencia[i]))\n",
    "                utility = 0\n",
    "                if (estados_secuencia[i], acciones_secuencia[i]) not in Racum:\n",
    "                    Racum[(estados_secuencia[i], acciones_secuencia[i])] = []\n",
    "                for j in range(i, len(estados_secuencia)):\n",
    "                    utility += (discount**(j-i) * obtiene_recompensa_2(estados_secuencia[j]))\n",
    "                Racum[(estados_secuencia[i], acciones_secuencia[i])].append(utility)\n",
    "                q_values[(estados_secuencia[i], acciones_secuencia[i])] = np.mean(Racum[(estados_secuencia[i], acciones_secuencia[i])])\n",
    "                acum[estados_secuencia[i]].append((q_values[(estados_secuencia[i], acciones_secuencia[i])] , acciones_secuencia[i]))\n",
    "                array_acum = np.array(acum[estados_secuencia[i]])\n",
    "                index = np.argmax(array_acum[:, 0])\n",
    "                politica_res[obtiene_indice_estado(estados_secuencia[i])] = acum[estados_secuencia[i]][index][1]\n",
    "    \n",
    "    return politica_res"
   ]
  },
  {
   "cell_type": "code",
   "execution_count": 351,
   "metadata": {},
   "outputs": [],
   "source": [
    "#Test del algoritmo de montecarlo que nos devuelve la política óptima calculada, en este caso ,  tras 1000 iteraciones. \n",
    "politica_greedy2 = crea_politica_greedy()\n",
    "test_montecarlo_primera_visita = montecarlo( politica_inicial = politica_greedy2, n_iteraciones = 1000, discount = 0.9, primera_visita = True)"
   ]
  },
  {
   "cell_type": "code",
   "execution_count": 352,
   "metadata": {},
   "outputs": [
    {
     "name": "stdout",
     "output_type": "stream",
     "text": [
      "En el estado (0, 0) ejecuta la acción esperar\n",
      "En el estado (0, 1) ejecuta la acción esperar\n",
      "En el estado (0, 2) ejecuta la acción esperar\n",
      "En el estado (0, 3) ejecuta la acción esperar\n",
      "En el estado (0, 4) ejecuta la acción esperar\n",
      "En el estado (0, 5) ejecuta la acción esperar\n",
      "En el estado (0, 6) ejecuta la acción esperar\n",
      "En el estado (1, 0) ejecuta la acción esperar\n",
      "En el estado (1, 1) ejecuta la acción NE\n",
      "En el estado (1, 2) ejecuta la acción E\n",
      "En el estado (1, 3) ejecuta la acción SE\n",
      "En el estado (1, 4) ejecuta la acción NE\n",
      "En el estado (1, 5) ejecuta la acción E\n",
      "En el estado (1, 6) ejecuta la acción esperar\n",
      "En el estado (2, 0) ejecuta la acción esperar\n",
      "En el estado (2, 1) ejecuta la acción NE\n",
      "En el estado (2, 2) ejecuta la acción E\n",
      "En el estado (2, 3) ejecuta la acción esperar\n",
      "En el estado (2, 4) ejecuta la acción esperar\n",
      "En el estado (2, 5) ejecuta la acción E\n",
      "En el estado (2, 6) ejecuta la acción esperar\n",
      "En el estado (3, 0) ejecuta la acción esperar\n",
      "En el estado (3, 1) ejecuta la acción NE\n",
      "En el estado (3, 2) ejecuta la acción E\n",
      "En el estado (3, 3) ejecuta la acción esperar\n",
      "En el estado (3, 4) ejecuta la acción esperar\n",
      "En el estado (3, 5) ejecuta la acción SE\n",
      "En el estado (3, 6) ejecuta la acción esperar\n",
      "En el estado (4, 0) ejecuta la acción esperar\n",
      "En el estado (4, 1) ejecuta la acción NE\n",
      "En el estado (4, 2) ejecuta la acción E\n",
      "En el estado (4, 3) ejecuta la acción SE\n",
      "En el estado (4, 4) ejecuta la acción SE\n",
      "En el estado (4, 5) ejecuta la acción SE\n",
      "En el estado (4, 6) ejecuta la acción esperar\n",
      "En el estado (5, 0) ejecuta la acción esperar\n",
      "En el estado (5, 1) ejecuta la acción NE\n",
      "En el estado (5, 2) ejecuta la acción E\n",
      "En el estado (5, 3) ejecuta la acción SE\n",
      "En el estado (5, 4) ejecuta la acción SE\n",
      "En el estado (5, 5) ejecuta la acción SE\n",
      "En el estado (5, 6) ejecuta la acción esperar\n",
      "En el estado (6, 0) ejecuta la acción esperar\n",
      "En el estado (6, 1) ejecuta la acción E\n",
      "En el estado (6, 2) ejecuta la acción SE\n",
      "En el estado (6, 3) ejecuta la acción NE\n",
      "En el estado (6, 4) ejecuta la acción E\n",
      "En el estado (6, 5) ejecuta la acción SE\n",
      "En el estado (6, 6) ejecuta la acción esperar\n",
      "En el estado (7, 0) ejecuta la acción esperar\n",
      "En el estado (7, 1) ejecuta la acción E\n",
      "En el estado (7, 2) ejecuta la acción esperar\n",
      "En el estado (7, 3) ejecuta la acción esperar\n",
      "En el estado (7, 4) ejecuta la acción E\n",
      "En el estado (7, 5) ejecuta la acción SE\n",
      "En el estado (7, 6) ejecuta la acción esperar\n",
      "En el estado (8, 0) ejecuta la acción esperar\n",
      "En el estado (8, 1) ejecuta la acción NE\n",
      "En el estado (8, 2) ejecuta la acción esperar\n",
      "En el estado (8, 3) ejecuta la acción esperar\n",
      "En el estado (8, 4) ejecuta la acción E\n",
      "En el estado (8, 5) ejecuta la acción SE\n",
      "En el estado (8, 6) ejecuta la acción esperar\n",
      "En el estado (9, 0) ejecuta la acción esperar\n",
      "En el estado (9, 1) ejecuta la acción NE\n",
      "En el estado (9, 2) ejecuta la acción E\n",
      "En el estado (9, 3) ejecuta la acción esperar\n",
      "En el estado (9, 4) ejecuta la acción SE\n",
      "En el estado (9, 5) ejecuta la acción esperar\n",
      "En el estado (9, 6) ejecuta la acción esperar\n",
      "En el estado (10, 0) ejecuta la acción esperar\n",
      "En el estado (10, 1) ejecuta la acción NE\n",
      "En el estado (10, 2) ejecuta la acción E\n",
      "En el estado (10, 3) ejecuta la acción SE\n",
      "En el estado (10, 4) ejecuta la acción esperar\n",
      "En el estado (10, 5) ejecuta la acción SE\n",
      "En el estado (10, 6) ejecuta la acción esperar\n",
      "En el estado (11, 0) ejecuta la acción esperar\n",
      "En el estado (11, 1) ejecuta la acción NE\n",
      "En el estado (11, 2) ejecuta la acción E\n",
      "En el estado (11, 3) ejecuta la acción esperar\n",
      "En el estado (11, 4) ejecuta la acción SE\n",
      "En el estado (11, 5) ejecuta la acción SE\n",
      "En el estado (11, 6) ejecuta la acción esperar\n",
      "En el estado (12, 0) ejecuta la acción esperar\n",
      "En el estado (12, 1) ejecuta la acción NE\n",
      "En el estado (12, 2) ejecuta la acción esperar\n",
      "En el estado (12, 3) ejecuta la acción SE\n",
      "En el estado (12, 4) ejecuta la acción SE\n",
      "En el estado (12, 5) ejecuta la acción SE\n",
      "En el estado (12, 6) ejecuta la acción esperar\n",
      "En el estado (13, 0) ejecuta la acción esperar\n",
      "En el estado (13, 1) ejecuta la acción NE\n",
      "En el estado (13, 2) ejecuta la acción esperar\n",
      "En el estado (13, 3) ejecuta la acción SE\n",
      "En el estado (13, 4) ejecuta la acción SE\n",
      "En el estado (13, 5) ejecuta la acción S\n",
      "En el estado (13, 6) ejecuta la acción esperar\n",
      "En el estado (14, 0) ejecuta la acción esperar\n",
      "En el estado (14, 1) ejecuta la acción NE\n",
      "En el estado (14, 2) ejecuta la acción esperar\n",
      "En el estado (14, 3) ejecuta la acción SE\n",
      "En el estado (14, 4) ejecuta la acción esperar\n",
      "En el estado (14, 5) ejecuta la acción esperar\n",
      "En el estado (14, 6) ejecuta la acción esperar\n",
      "En el estado (15, 0) ejecuta la acción esperar\n",
      "En el estado (15, 1) ejecuta la acción NE\n",
      "En el estado (15, 2) ejecuta la acción esperar\n",
      "En el estado (15, 3) ejecuta la acción SE\n",
      "En el estado (15, 4) ejecuta la acción esperar\n",
      "En el estado (15, 5) ejecuta la acción esperar\n",
      "En el estado (15, 6) ejecuta la acción esperar\n",
      "En el estado (16, 0) ejecuta la acción esperar\n",
      "En el estado (16, 1) ejecuta la acción esperar\n",
      "En el estado (16, 2) ejecuta la acción esperar\n",
      "En el estado (16, 3) ejecuta la acción esperar\n",
      "En el estado (16, 4) ejecuta la acción SE\n",
      "En el estado (16, 5) ejecuta la acción SE\n",
      "En el estado (16, 6) ejecuta la acción esperar\n",
      "En el estado (17, 0) ejecuta la acción esperar\n",
      "En el estado (17, 1) ejecuta la acción esperar\n",
      "En el estado (17, 2) ejecuta la acción esperar\n",
      "En el estado (17, 3) ejecuta la acción esperar\n",
      "En el estado (17, 4) ejecuta la acción esperar\n",
      "En el estado (17, 5) ejecuta la acción S\n",
      "En el estado (17, 6) ejecuta la acción esperar\n",
      "En el estado (18, 0) ejecuta la acción esperar\n",
      "En el estado (18, 1) ejecuta la acción esperar\n",
      "En el estado (18, 2) ejecuta la acción esperar\n",
      "En el estado (18, 3) ejecuta la acción esperar\n",
      "En el estado (18, 4) ejecuta la acción SO\n",
      "En el estado (18, 5) ejecuta la acción esperar\n",
      "En el estado (18, 6) ejecuta la acción esperar\n",
      "En el estado (19, 0) ejecuta la acción esperar\n",
      "En el estado (19, 1) ejecuta la acción esperar\n",
      "En el estado (19, 2) ejecuta la acción esperar\n",
      "En el estado (19, 3) ejecuta la acción esperar\n",
      "En el estado (19, 4) ejecuta la acción esperar\n",
      "En el estado (19, 5) ejecuta la acción esperar\n",
      "En el estado (19, 6) ejecuta la acción esperar\n"
     ]
    }
   ],
   "source": [
    "for estado, accion in zip(nav_estados, test_montecarlo_primera_visita):\n",
    "    print(f'En el estado {estado} ejecuta la acción {accion}')"
   ]
  },
  {
   "cell_type": "code",
   "execution_count": 353,
   "metadata": {},
   "outputs": [
    {
     "data": {
      "image/png": "[encoded data removed]",
      "text/plain": [
       "<Figure size 2000x700 with 1 Axes>"
      ]
     },
     "metadata": {},
     "output_type": "display_data"
    }
   ],
   "source": [
    "visualiza_politica(test_montecarlo_primera_visita)"
   ]
  },
  {
   "cell_type": "code",
   "execution_count": 354,
   "metadata": {},
   "outputs": [],
   "source": [
    "#Test del algoritmo de montecarlo que nos devuelve la política óptima calculada, en este caso ,  tras 1000 iteraciones. \n",
    "politica_greedy2 = crea_politica_greedy()\n",
    "test_montecarlo_cada_visita = montecarlo( politica_inicial = politica_greedy2, n_iteraciones = 1000, discount = 0.9, primera_visita = False)"
   ]
  },
  {
   "cell_type": "code",
   "execution_count": 355,
   "metadata": {},
   "outputs": [
    {
     "name": "stdout",
     "output_type": "stream",
     "text": [
      "En el estado (0, 0) ejecuta la acción esperar\n",
      "En el estado (0, 1) ejecuta la acción esperar\n",
      "En el estado (0, 2) ejecuta la acción esperar\n",
      "En el estado (0, 3) ejecuta la acción esperar\n",
      "En el estado (0, 4) ejecuta la acción esperar\n",
      "En el estado (0, 5) ejecuta la acción esperar\n",
      "En el estado (0, 6) ejecuta la acción esperar\n",
      "En el estado (1, 0) ejecuta la acción esperar\n",
      "En el estado (1, 1) ejecuta la acción NE\n",
      "En el estado (1, 2) ejecuta la acción E\n",
      "En el estado (1, 3) ejecuta la acción esperar\n",
      "En el estado (1, 4) ejecuta la acción NE\n",
      "En el estado (1, 5) ejecuta la acción E\n",
      "En el estado (1, 6) ejecuta la acción esperar\n",
      "En el estado (2, 0) ejecuta la acción esperar\n",
      "En el estado (2, 1) ejecuta la acción NE\n",
      "En el estado (2, 2) ejecuta la acción esperar\n",
      "En el estado (2, 3) ejecuta la acción esperar\n",
      "En el estado (2, 4) ejecuta la acción esperar\n",
      "En el estado (2, 5) ejecuta la acción E\n",
      "En el estado (2, 6) ejecuta la acción esperar\n",
      "En el estado (3, 0) ejecuta la acción esperar\n",
      "En el estado (3, 1) ejecuta la acción NE\n",
      "En el estado (3, 2) ejecuta la acción esperar\n",
      "En el estado (3, 3) ejecuta la acción esperar\n",
      "En el estado (3, 4) ejecuta la acción esperar\n",
      "En el estado (3, 5) ejecuta la acción SE\n",
      "En el estado (3, 6) ejecuta la acción esperar\n",
      "En el estado (4, 0) ejecuta la acción esperar\n",
      "En el estado (4, 1) ejecuta la acción NE\n",
      "En el estado (4, 2) ejecuta la acción esperar\n",
      "En el estado (4, 3) ejecuta la acción SE\n",
      "En el estado (4, 4) ejecuta la acción SE\n",
      "En el estado (4, 5) ejecuta la acción SE\n",
      "En el estado (4, 6) ejecuta la acción esperar\n",
      "En el estado (5, 0) ejecuta la acción esperar\n",
      "En el estado (5, 1) ejecuta la acción NE\n",
      "En el estado (5, 2) ejecuta la acción esperar\n",
      "En el estado (5, 3) ejecuta la acción SE\n",
      "En el estado (5, 4) ejecuta la acción SE\n",
      "En el estado (5, 5) ejecuta la acción SE\n",
      "En el estado (5, 6) ejecuta la acción esperar\n",
      "En el estado (6, 0) ejecuta la acción esperar\n",
      "En el estado (6, 1) ejecuta la acción E\n",
      "En el estado (6, 2) ejecuta la acción esperar\n",
      "En el estado (6, 3) ejecuta la acción NE\n",
      "En el estado (6, 4) ejecuta la acción E\n",
      "En el estado (6, 5) ejecuta la acción SE\n",
      "En el estado (6, 6) ejecuta la acción esperar\n",
      "En el estado (7, 0) ejecuta la acción esperar\n",
      "En el estado (7, 1) ejecuta la acción esperar\n",
      "En el estado (7, 2) ejecuta la acción esperar\n",
      "En el estado (7, 3) ejecuta la acción esperar\n",
      "En el estado (7, 4) ejecuta la acción E\n",
      "En el estado (7, 5) ejecuta la acción SE\n",
      "En el estado (7, 6) ejecuta la acción esperar\n",
      "En el estado (8, 0) ejecuta la acción esperar\n",
      "En el estado (8, 1) ejecuta la acción esperar\n",
      "En el estado (8, 2) ejecuta la acción esperar\n",
      "En el estado (8, 3) ejecuta la acción esperar\n",
      "En el estado (8, 4) ejecuta la acción E\n",
      "En el estado (8, 5) ejecuta la acción SE\n",
      "En el estado (8, 6) ejecuta la acción esperar\n",
      "En el estado (9, 0) ejecuta la acción esperar\n",
      "En el estado (9, 1) ejecuta la acción NE\n",
      "En el estado (9, 2) ejecuta la acción esperar\n",
      "En el estado (9, 3) ejecuta la acción esperar\n",
      "En el estado (9, 4) ejecuta la acción SE\n",
      "En el estado (9, 5) ejecuta la acción SE\n",
      "En el estado (9, 6) ejecuta la acción esperar\n",
      "En el estado (10, 0) ejecuta la acción esperar\n",
      "En el estado (10, 1) ejecuta la acción NE\n",
      "En el estado (10, 2) ejecuta la acción esperar\n",
      "En el estado (10, 3) ejecuta la acción SE\n",
      "En el estado (10, 4) ejecuta la acción SE\n",
      "En el estado (10, 5) ejecuta la acción SE\n",
      "En el estado (10, 6) ejecuta la acción esperar\n",
      "En el estado (11, 0) ejecuta la acción esperar\n",
      "En el estado (11, 1) ejecuta la acción esperar\n",
      "En el estado (11, 2) ejecuta la acción E\n",
      "En el estado (11, 3) ejecuta la acción SE\n",
      "En el estado (11, 4) ejecuta la acción SE\n",
      "En el estado (11, 5) ejecuta la acción SE\n",
      "En el estado (11, 6) ejecuta la acción esperar\n",
      "En el estado (12, 0) ejecuta la acción esperar\n",
      "En el estado (12, 1) ejecuta la acción NE\n",
      "En el estado (12, 2) ejecuta la acción esperar\n",
      "En el estado (12, 3) ejecuta la acción SE\n",
      "En el estado (12, 4) ejecuta la acción SE\n",
      "En el estado (12, 5) ejecuta la acción SE\n",
      "En el estado (12, 6) ejecuta la acción esperar\n",
      "En el estado (13, 0) ejecuta la acción esperar\n",
      "En el estado (13, 1) ejecuta la acción esperar\n",
      "En el estado (13, 2) ejecuta la acción E\n",
      "En el estado (13, 3) ejecuta la acción SE\n",
      "En el estado (13, 4) ejecuta la acción SE\n",
      "En el estado (13, 5) ejecuta la acción S\n",
      "En el estado (13, 6) ejecuta la acción esperar\n",
      "En el estado (14, 0) ejecuta la acción esperar\n",
      "En el estado (14, 1) ejecuta la acción NE\n",
      "En el estado (14, 2) ejecuta la acción esperar\n",
      "En el estado (14, 3) ejecuta la acción SE\n",
      "En el estado (14, 4) ejecuta la acción esperar\n",
      "En el estado (14, 5) ejecuta la acción esperar\n",
      "En el estado (14, 6) ejecuta la acción esperar\n",
      "En el estado (15, 0) ejecuta la acción esperar\n",
      "En el estado (15, 1) ejecuta la acción NE\n",
      "En el estado (15, 2) ejecuta la acción esperar\n",
      "En el estado (15, 3) ejecuta la acción SE\n",
      "En el estado (15, 4) ejecuta la acción esperar\n",
      "En el estado (15, 5) ejecuta la acción esperar\n",
      "En el estado (15, 6) ejecuta la acción esperar\n",
      "En el estado (16, 0) ejecuta la acción esperar\n",
      "En el estado (16, 1) ejecuta la acción esperar\n",
      "En el estado (16, 2) ejecuta la acción esperar\n",
      "En el estado (16, 3) ejecuta la acción esperar\n",
      "En el estado (16, 4) ejecuta la acción esperar\n",
      "En el estado (16, 5) ejecuta la acción SE\n",
      "En el estado (16, 6) ejecuta la acción esperar\n",
      "En el estado (17, 0) ejecuta la acción esperar\n",
      "En el estado (17, 1) ejecuta la acción esperar\n",
      "En el estado (17, 2) ejecuta la acción esperar\n",
      "En el estado (17, 3) ejecuta la acción esperar\n",
      "En el estado (17, 4) ejecuta la acción esperar\n",
      "En el estado (17, 5) ejecuta la acción esperar\n",
      "En el estado (17, 6) ejecuta la acción esperar\n",
      "En el estado (18, 0) ejecuta la acción esperar\n",
      "En el estado (18, 1) ejecuta la acción esperar\n",
      "En el estado (18, 2) ejecuta la acción esperar\n",
      "En el estado (18, 3) ejecuta la acción esperar\n",
      "En el estado (18, 4) ejecuta la acción SO\n",
      "En el estado (18, 5) ejecuta la acción SO\n",
      "En el estado (18, 6) ejecuta la acción esperar\n",
      "En el estado (19, 0) ejecuta la acción esperar\n",
      "En el estado (19, 1) ejecuta la acción esperar\n",
      "En el estado (19, 2) ejecuta la acción esperar\n",
      "En el estado (19, 3) ejecuta la acción esperar\n",
      "En el estado (19, 4) ejecuta la acción esperar\n",
      "En el estado (19, 5) ejecuta la acción esperar\n",
      "En el estado (19, 6) ejecuta la acción esperar\n"
     ]
    }
   ],
   "source": [
    "for estado, accion in zip(nav_estados, test_montecarlo_cada_visita):\n",
    "    print(f'En el estado {estado} ejecuta la acción {accion}')"
   ]
  },
  {
   "cell_type": "code",
   "execution_count": 356,
   "metadata": {},
   "outputs": [
    {
     "data": {
      "image/png": "[encoded data removed]",
      "text/plain": [
       "<Figure size 2000x700 with 1 Axes>"
      ]
     },
     "metadata": {},
     "output_type": "display_data"
    }
   ],
   "source": [
    "visualiza_politica(test_montecarlo_cada_visita)"
   ]
  },
  {
   "cell_type": "code",
   "execution_count": 357,
   "metadata": {},
   "outputs": [],
   "source": [
    "# Implementación SARSA\n",
    "def SARSA(politica_inicial, n_iteraciones, discount, learning):\n",
    "    politica_res = politica_inicial.copy()\n",
    "    q_values = {}\n",
    "    acum = {}\n",
    "    for e in nav_estados:\n",
    "            for a in nav_acciones:\n",
    "                q_values[(e,a)] = 0\n",
    "                if e not in acum: \n",
    "                    acum[e] = []\n",
    "                acum[e].append((0,a))\n",
    "\n",
    "    for k in range(n_iteraciones):\n",
    "        sec_inicial = crear_secuencia_inicial(politica_res, False)\n",
    "        estados_secuencia = sec_inicial[0]\n",
    "        acciones_secuencia = sec_inicial[1] \n",
    "        for i in range(len(acciones_secuencia)):\n",
    "            estado_actual = estados_secuencia[i]\n",
    "            accion_actual = acciones_secuencia[i]\n",
    "            estado_siguiente = estados_secuencia[i+1]\n",
    "            accion_siguiente = politica_res[obtiene_indice_estado(estado_siguiente)]\n",
    "            reward = obtiene_recompensa(estado_siguiente)\n",
    "            q_values[(estado_actual,accion_actual)] += learning * (reward + (discount* q_values[(estado_siguiente,accion_siguiente)]) - q_values[(estado_actual,accion_actual)])\n",
    "            acum[estado_actual].append((q_values[(estado_actual,accion_actual)] , accion_actual))\n",
    "            array_acum = np.array(acum[estado_actual])\n",
    "            index = np.argmax(array_acum[:, 0])\n",
    "            politica_res[obtiene_indice_estado(estado_actual)] = acum[estado_actual][index][1]\n",
    "\n",
    "    return politica_res\n",
    "            "
   ]
  },
  {
   "cell_type": "code",
   "execution_count": 372,
   "metadata": {},
   "outputs": [],
   "source": [
    "#Test del algoritmo SARSA que nos devuelve la política óptima calculada, en este caso ,  tras 1000 iteraciones , con factor de\n",
    "# descuento 0.9 y de aprendizaje 0.5\n",
    "\n",
    "politica_greedy3 = crea_politica_greedy()\n",
    "test_SARSA = SARSA (politica_inicial = politica_greedy3, n_iteraciones = 1000, discount = 0.9, learning = 0.5)"
   ]
  },
  {
   "cell_type": "code",
   "execution_count": 373,
   "metadata": {},
   "outputs": [
    {
     "name": "stdout",
     "output_type": "stream",
     "text": [
      "En el estado (0, 0) ejecuta la acción esperar\n",
      "En el estado (0, 1) ejecuta la acción esperar\n",
      "En el estado (0, 2) ejecuta la acción esperar\n",
      "En el estado (0, 3) ejecuta la acción esperar\n",
      "En el estado (0, 4) ejecuta la acción esperar\n",
      "En el estado (0, 5) ejecuta la acción esperar\n",
      "En el estado (0, 6) ejecuta la acción esperar\n",
      "En el estado (1, 0) ejecuta la acción esperar\n",
      "En el estado (1, 1) ejecuta la acción NE\n",
      "En el estado (1, 2) ejecuta la acción E\n",
      "En el estado (1, 3) ejecuta la acción SE\n",
      "En el estado (1, 4) ejecuta la acción NE\n",
      "En el estado (1, 5) ejecuta la acción E\n",
      "En el estado (1, 6) ejecuta la acción esperar\n",
      "En el estado (2, 0) ejecuta la acción esperar\n",
      "En el estado (2, 1) ejecuta la acción NE\n",
      "En el estado (2, 2) ejecuta la acción E\n",
      "En el estado (2, 3) ejecuta la acción esperar\n",
      "En el estado (2, 4) ejecuta la acción esperar\n",
      "En el estado (2, 5) ejecuta la acción E\n",
      "En el estado (2, 6) ejecuta la acción esperar\n",
      "En el estado (3, 0) ejecuta la acción esperar\n",
      "En el estado (3, 1) ejecuta la acción NE\n",
      "En el estado (3, 2) ejecuta la acción E\n",
      "En el estado (3, 3) ejecuta la acción esperar\n",
      "En el estado (3, 4) ejecuta la acción esperar\n",
      "En el estado (3, 5) ejecuta la acción SE\n",
      "En el estado (3, 6) ejecuta la acción esperar\n",
      "En el estado (4, 0) ejecuta la acción esperar\n",
      "En el estado (4, 1) ejecuta la acción NE\n",
      "En el estado (4, 2) ejecuta la acción E\n",
      "En el estado (4, 3) ejecuta la acción SE\n",
      "En el estado (4, 4) ejecuta la acción SE\n",
      "En el estado (4, 5) ejecuta la acción SE\n",
      "En el estado (4, 6) ejecuta la acción esperar\n",
      "En el estado (5, 0) ejecuta la acción esperar\n",
      "En el estado (5, 1) ejecuta la acción NE\n",
      "En el estado (5, 2) ejecuta la acción E\n",
      "En el estado (5, 3) ejecuta la acción SE\n",
      "En el estado (5, 4) ejecuta la acción SE\n",
      "En el estado (5, 5) ejecuta la acción SE\n",
      "En el estado (5, 6) ejecuta la acción esperar\n",
      "En el estado (6, 0) ejecuta la acción esperar\n",
      "En el estado (6, 1) ejecuta la acción E\n",
      "En el estado (6, 2) ejecuta la acción SE\n",
      "En el estado (6, 3) ejecuta la acción NE\n",
      "En el estado (6, 4) ejecuta la acción E\n",
      "En el estado (6, 5) ejecuta la acción SE\n",
      "En el estado (6, 6) ejecuta la acción esperar\n",
      "En el estado (7, 0) ejecuta la acción esperar\n",
      "En el estado (7, 1) ejecuta la acción E\n",
      "En el estado (7, 2) ejecuta la acción esperar\n",
      "En el estado (7, 3) ejecuta la acción esperar\n",
      "En el estado (7, 4) ejecuta la acción E\n",
      "En el estado (7, 5) ejecuta la acción SE\n",
      "En el estado (7, 6) ejecuta la acción esperar\n",
      "En el estado (8, 0) ejecuta la acción esperar\n",
      "En el estado (8, 1) ejecuta la acción NE\n",
      "En el estado (8, 2) ejecuta la acción esperar\n",
      "En el estado (8, 3) ejecuta la acción esperar\n",
      "En el estado (8, 4) ejecuta la acción E\n",
      "En el estado (8, 5) ejecuta la acción SE\n",
      "En el estado (8, 6) ejecuta la acción esperar\n",
      "En el estado (9, 0) ejecuta la acción esperar\n",
      "En el estado (9, 1) ejecuta la acción esperar\n",
      "En el estado (9, 2) ejecuta la acción E\n",
      "En el estado (9, 3) ejecuta la acción esperar\n",
      "En el estado (9, 4) ejecuta la acción SE\n",
      "En el estado (9, 5) ejecuta la acción SE\n",
      "En el estado (9, 6) ejecuta la acción esperar\n",
      "En el estado (10, 0) ejecuta la acción esperar\n",
      "En el estado (10, 1) ejecuta la acción NE\n",
      "En el estado (10, 2) ejecuta la acción esperar\n",
      "En el estado (10, 3) ejecuta la acción SE\n",
      "En el estado (10, 4) ejecuta la acción SE\n",
      "En el estado (10, 5) ejecuta la acción SE\n",
      "En el estado (10, 6) ejecuta la acción esperar\n",
      "En el estado (11, 0) ejecuta la acción esperar\n",
      "En el estado (11, 1) ejecuta la acción NE\n",
      "En el estado (11, 2) ejecuta la acción esperar\n",
      "En el estado (11, 3) ejecuta la acción SE\n",
      "En el estado (11, 4) ejecuta la acción SE\n",
      "En el estado (11, 5) ejecuta la acción SE\n",
      "En el estado (11, 6) ejecuta la acción esperar\n",
      "En el estado (12, 0) ejecuta la acción esperar\n",
      "En el estado (12, 1) ejecuta la acción NE\n",
      "En el estado (12, 2) ejecuta la acción esperar\n",
      "En el estado (12, 3) ejecuta la acción SE\n",
      "En el estado (12, 4) ejecuta la acción SE\n",
      "En el estado (12, 5) ejecuta la acción SE\n",
      "En el estado (12, 6) ejecuta la acción esperar\n",
      "En el estado (13, 0) ejecuta la acción esperar\n",
      "En el estado (13, 1) ejecuta la acción NE\n",
      "En el estado (13, 2) ejecuta la acción esperar\n",
      "En el estado (13, 3) ejecuta la acción SE\n",
      "En el estado (13, 4) ejecuta la acción SE\n",
      "En el estado (13, 5) ejecuta la acción S\n",
      "En el estado (13, 6) ejecuta la acción esperar\n",
      "En el estado (14, 0) ejecuta la acción esperar\n",
      "En el estado (14, 1) ejecuta la acción esperar\n",
      "En el estado (14, 2) ejecuta la acción E\n",
      "En el estado (14, 3) ejecuta la acción SE\n",
      "En el estado (14, 4) ejecuta la acción esperar\n",
      "En el estado (14, 5) ejecuta la acción esperar\n",
      "En el estado (14, 6) ejecuta la acción esperar\n",
      "En el estado (15, 0) ejecuta la acción esperar\n",
      "En el estado (15, 1) ejecuta la acción esperar\n",
      "En el estado (15, 2) ejecuta la acción esperar\n",
      "En el estado (15, 3) ejecuta la acción esperar\n",
      "En el estado (15, 4) ejecuta la acción esperar\n",
      "En el estado (15, 5) ejecuta la acción esperar\n",
      "En el estado (15, 6) ejecuta la acción esperar\n",
      "En el estado (16, 0) ejecuta la acción esperar\n",
      "En el estado (16, 1) ejecuta la acción NE\n",
      "En el estado (16, 2) ejecuta la acción E\n",
      "En el estado (16, 3) ejecuta la acción SE\n",
      "En el estado (16, 4) ejecuta la acción esperar\n",
      "En el estado (16, 5) ejecuta la acción esperar\n",
      "En el estado (16, 6) ejecuta la acción esperar\n",
      "En el estado (17, 0) ejecuta la acción esperar\n",
      "En el estado (17, 1) ejecuta la acción N\n",
      "En el estado (17, 2) ejecuta la acción esperar\n",
      "En el estado (17, 3) ejecuta la acción S\n",
      "En el estado (17, 4) ejecuta la acción esperar\n",
      "En el estado (17, 5) ejecuta la acción S\n",
      "En el estado (17, 6) ejecuta la acción esperar\n",
      "En el estado (18, 0) ejecuta la acción esperar\n",
      "En el estado (18, 1) ejecuta la acción esperar\n",
      "En el estado (18, 2) ejecuta la acción O\n",
      "En el estado (18, 3) ejecuta la acción esperar\n",
      "En el estado (18, 4) ejecuta la acción esperar\n",
      "En el estado (18, 5) ejecuta la acción SO\n",
      "En el estado (18, 6) ejecuta la acción esperar\n",
      "En el estado (19, 0) ejecuta la acción esperar\n",
      "En el estado (19, 1) ejecuta la acción esperar\n",
      "En el estado (19, 2) ejecuta la acción esperar\n",
      "En el estado (19, 3) ejecuta la acción esperar\n",
      "En el estado (19, 4) ejecuta la acción esperar\n",
      "En el estado (19, 5) ejecuta la acción esperar\n",
      "En el estado (19, 6) ejecuta la acción esperar\n"
     ]
    }
   ],
   "source": [
    "for estado, accion in zip(nav_estados, test_SARSA):\n",
    "    print(f'En el estado {estado} ejecuta la acción {accion}')"
   ]
  },
  {
   "cell_type": "code",
   "execution_count": 374,
   "metadata": {},
   "outputs": [
    {
     "data": {
      "image/png": "[encoded data removed]",
      "text/plain": [
       "<Figure size 2000x700 with 1 Axes>"
      ]
     },
     "metadata": {},
     "output_type": "display_data"
    }
   ],
   "source": [
    "visualiza_politica(test_SARSA)"
   ]
  },
  {
   "cell_type": "code",
   "execution_count": 361,
   "metadata": {},
   "outputs": [],
   "source": [
    "#Resolucion con Q-Learning"
   ]
  },
  {
   "cell_type": "code",
   "execution_count": 437,
   "metadata": {},
   "outputs": [],
   "source": [
    "#Uso la biblioteca mdp y paso como parametro a la funcion las transicciones y recompensas del sistema, asi como un factor de\n",
    "# descuento 0.9 y un número de iteraciones = 10000\n",
    "ejemplo_nav_robot_ql = mdp.QLearning(\n",
    "    transitions=nav_transiciones_sistema,\n",
    "    reward=nav_recompensas_sistema,\n",
    "    n_iter=100000,\n",
    "    discount=0.9\n",
    ")"
   ]
  },
  {
   "cell_type": "code",
   "execution_count": 438,
   "metadata": {},
   "outputs": [],
   "source": [
    "ejemplo_nav_robot_ql.run()\n"
   ]
  },
  {
   "cell_type": "code",
   "execution_count": 439,
   "metadata": {},
   "outputs": [
    {
     "name": "stdout",
     "output_type": "stream",
     "text": [
      "En el estado (0, 0) ejecuta la acción esperar\n",
      "En el estado (0, 1) ejecuta la acción esperar\n",
      "En el estado (0, 2) ejecuta la acción NO\n",
      "En el estado (0, 3) ejecuta la acción O\n",
      "En el estado (0, 4) ejecuta la acción esperar\n",
      "En el estado (0, 5) ejecuta la acción esperar\n",
      "En el estado (0, 6) ejecuta la acción esperar\n",
      "En el estado (1, 0) ejecuta la acción SO\n",
      "En el estado (1, 1) ejecuta la acción NE\n",
      "En el estado (1, 2) ejecuta la acción SO\n",
      "En el estado (1, 3) ejecuta la acción NE\n",
      "En el estado (1, 4) ejecuta la acción SE\n",
      "En el estado (1, 5) ejecuta la acción S\n",
      "En el estado (1, 6) ejecuta la acción esperar\n",
      "En el estado (2, 0) ejecuta la acción esperar\n",
      "En el estado (2, 1) ejecuta la acción NO\n",
      "En el estado (2, 2) ejecuta la acción O\n",
      "En el estado (2, 3) ejecuta la acción esperar\n",
      "En el estado (2, 4) ejecuta la acción N\n",
      "En el estado (2, 5) ejecuta la acción E\n",
      "En el estado (2, 6) ejecuta la acción esperar\n",
      "En el estado (3, 0) ejecuta la acción esperar\n",
      "En el estado (3, 1) ejecuta la acción NO\n",
      "En el estado (3, 2) ejecuta la acción S\n",
      "En el estado (3, 3) ejecuta la acción esperar\n",
      "En el estado (3, 4) ejecuta la acción esperar\n",
      "En el estado (3, 5) ejecuta la acción O\n",
      "En el estado (3, 6) ejecuta la acción E\n",
      "En el estado (4, 0) ejecuta la acción NO\n",
      "En el estado (4, 1) ejecuta la acción NO\n",
      "En el estado (4, 2) ejecuta la acción SO\n",
      "En el estado (4, 3) ejecuta la acción NE\n",
      "En el estado (4, 4) ejecuta la acción NE\n",
      "En el estado (4, 5) ejecuta la acción O\n",
      "En el estado (4, 6) ejecuta la acción esperar\n",
      "En el estado (5, 0) ejecuta la acción esperar\n",
      "En el estado (5, 1) ejecuta la acción O\n",
      "En el estado (5, 2) ejecuta la acción NE\n",
      "En el estado (5, 3) ejecuta la acción NO\n",
      "En el estado (5, 4) ejecuta la acción SE\n",
      "En el estado (5, 5) ejecuta la acción S\n",
      "En el estado (5, 6) ejecuta la acción esperar\n",
      "En el estado (6, 0) ejecuta la acción esperar\n",
      "En el estado (6, 1) ejecuta la acción O\n",
      "En el estado (6, 2) ejecuta la acción S\n",
      "En el estado (6, 3) ejecuta la acción O\n",
      "En el estado (6, 4) ejecuta la acción NO\n",
      "En el estado (6, 5) ejecuta la acción SO\n",
      "En el estado (6, 6) ejecuta la acción esperar\n",
      "En el estado (7, 0) ejecuta la acción esperar\n",
      "En el estado (7, 1) ejecuta la acción NO\n",
      "En el estado (7, 2) ejecuta la acción esperar\n",
      "En el estado (7, 3) ejecuta la acción esperar\n",
      "En el estado (7, 4) ejecuta la acción O\n",
      "En el estado (7, 5) ejecuta la acción SO\n",
      "En el estado (7, 6) ejecuta la acción esperar\n",
      "En el estado (8, 0) ejecuta la acción esperar\n",
      "En el estado (8, 1) ejecuta la acción NE\n",
      "En el estado (8, 2) ejecuta la acción esperar\n",
      "En el estado (8, 3) ejecuta la acción esperar\n",
      "En el estado (8, 4) ejecuta la acción N\n",
      "En el estado (8, 5) ejecuta la acción S\n",
      "En el estado (8, 6) ejecuta la acción NO\n",
      "En el estado (9, 0) ejecuta la acción esperar\n",
      "En el estado (9, 1) ejecuta la acción E\n",
      "En el estado (9, 2) ejecuta la acción S\n",
      "En el estado (9, 3) ejecuta la acción esperar\n",
      "En el estado (9, 4) ejecuta la acción NO\n",
      "En el estado (9, 5) ejecuta la acción SE\n",
      "En el estado (9, 6) ejecuta la acción NE\n",
      "En el estado (10, 0) ejecuta la acción SE\n",
      "En el estado (10, 1) ejecuta la acción NE\n",
      "En el estado (10, 2) ejecuta la acción S\n",
      "En el estado (10, 3) ejecuta la acción E\n",
      "En el estado (10, 4) ejecuta la acción NE\n",
      "En el estado (10, 5) ejecuta la acción S\n",
      "En el estado (10, 6) ejecuta la acción NE\n",
      "En el estado (11, 0) ejecuta la acción esperar\n",
      "En el estado (11, 1) ejecuta la acción N\n",
      "En el estado (11, 2) ejecuta la acción NO\n",
      "En el estado (11, 3) ejecuta la acción O\n",
      "En el estado (11, 4) ejecuta la acción N\n",
      "En el estado (11, 5) ejecuta la acción SO\n",
      "En el estado (11, 6) ejecuta la acción esperar\n",
      "En el estado (12, 0) ejecuta la acción esperar\n",
      "En el estado (12, 1) ejecuta la acción NO\n",
      "En el estado (12, 2) ejecuta la acción E\n",
      "En el estado (12, 3) ejecuta la acción NE\n",
      "En el estado (12, 4) ejecuta la acción S\n",
      "En el estado (12, 5) ejecuta la acción SO\n",
      "En el estado (12, 6) ejecuta la acción esperar\n",
      "En el estado (13, 0) ejecuta la acción esperar\n",
      "En el estado (13, 1) ejecuta la acción N\n",
      "En el estado (13, 2) ejecuta la acción NE\n",
      "En el estado (13, 3) ejecuta la acción SE\n",
      "En el estado (13, 4) ejecuta la acción O\n",
      "En el estado (13, 5) ejecuta la acción SO\n",
      "En el estado (13, 6) ejecuta la acción esperar\n",
      "En el estado (14, 0) ejecuta la acción SE\n",
      "En el estado (14, 1) ejecuta la acción NE\n",
      "En el estado (14, 2) ejecuta la acción N\n",
      "En el estado (14, 3) ejecuta la acción S\n",
      "En el estado (14, 4) ejecuta la acción esperar\n",
      "En el estado (14, 5) ejecuta la acción E\n",
      "En el estado (14, 6) ejecuta la acción esperar\n",
      "En el estado (15, 0) ejecuta la acción NE\n",
      "En el estado (15, 1) ejecuta la acción N\n",
      "En el estado (15, 2) ejecuta la acción SO\n",
      "En el estado (15, 3) ejecuta la acción SE\n",
      "En el estado (15, 4) ejecuta la acción esperar\n",
      "En el estado (15, 5) ejecuta la acción esperar\n",
      "En el estado (15, 6) ejecuta la acción esperar\n",
      "En el estado (16, 0) ejecuta la acción S\n",
      "En el estado (16, 1) ejecuta la acción NO\n",
      "En el estado (16, 2) ejecuta la acción NE\n",
      "En el estado (16, 3) ejecuta la acción NE\n",
      "En el estado (16, 4) ejecuta la acción NE\n",
      "En el estado (16, 5) ejecuta la acción SE\n",
      "En el estado (16, 6) ejecuta la acción esperar\n",
      "En el estado (17, 0) ejecuta la acción esperar\n",
      "En el estado (17, 1) ejecuta la acción NE\n",
      "En el estado (17, 2) ejecuta la acción esperar\n",
      "En el estado (17, 3) ejecuta la acción E\n",
      "En el estado (17, 4) ejecuta la acción E\n",
      "En el estado (17, 5) ejecuta la acción S\n",
      "En el estado (17, 6) ejecuta la acción esperar\n",
      "En el estado (18, 0) ejecuta la acción esperar\n",
      "En el estado (18, 1) ejecuta la acción N\n",
      "En el estado (18, 2) ejecuta la acción SO\n",
      "En el estado (18, 3) ejecuta la acción O\n",
      "En el estado (18, 4) ejecuta la acción NO\n",
      "En el estado (18, 5) ejecuta la acción SO\n",
      "En el estado (18, 6) ejecuta la acción SE\n",
      "En el estado (19, 0) ejecuta la acción esperar\n",
      "En el estado (19, 1) ejecuta la acción esperar\n",
      "En el estado (19, 2) ejecuta la acción esperar\n",
      "En el estado (19, 3) ejecuta la acción S\n",
      "En el estado (19, 4) ejecuta la acción esperar\n",
      "En el estado (19, 5) ejecuta la acción esperar\n",
      "En el estado (19, 6) ejecuta la acción N\n"
     ]
    }
   ],
   "source": [
    "for estado, i in zip(nav_estados, ejemplo_nav_robot_ql.policy):\n",
    "    print(f'En el estado {estado} ejecuta la acción {nav_acciones[i]}')"
   ]
  },
  {
   "cell_type": "code",
   "execution_count": 440,
   "metadata": {},
   "outputs": [],
   "source": [
    "nav_politica_ql = [nav_acciones[i] for i in ejemplo_nav_robot_ql.policy]"
   ]
  },
  {
   "cell_type": "code",
   "execution_count": 436,
   "metadata": {},
   "outputs": [
    {
     "data": {
      "image/png": "[encoded data removed]",
      "text/plain": [
       "<Figure size 2000x700 with 1 Axes>"
      ]
     },
     "metadata": {},
     "output_type": "display_data"
    }
   ],
   "source": [
    "visualiza_politica(nav_politica_ql)"
   ]
  },
  {
   "cell_type": "code",
   "execution_count": null,
   "metadata": {},
   "outputs": [],
   "source": []
  }
 ],
 "metadata": {
  "interpreter": {
   "hash": "2099bd325dbeaf7e4e8caf45fe7825414fd9ac8256d419d411c81b62c4bb80b8"
  },
  "kernelspec": {
   "display_name": "Python 3 (ipykernel)",
   "language": "python",
   "name": "python3"
  },
  "language_info": {
   "codemirror_mode": {
    "name": "ipython",
    "version": 3
   },
   "file_extension": ".py",
   "mimetype": "text/x-python",
   "name": "python",
   "nbconvert_exporter": "python",
   "pygments_lexer": "ipython3",
   "version": "3.11.7"
  }
 },
 "nbformat": 4,
 "nbformat_minor": 4
}
